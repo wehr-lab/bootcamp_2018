{
 "cells": [
  {
   "cell_type": "code",
   "execution_count": 1,
   "metadata": {},
   "outputs": [
    {
     "data": {
      "text/plain": [
       "RendererRegistry.enable('notebook')"
      ]
     },
     "execution_count": 1,
     "metadata": {},
     "output_type": "execute_result"
    }
   ],
   "source": [
    "import os\n",
    "from glob import glob\n",
    "from pprint import pprint # pretty printing\n",
    "\n",
    "import pandas as pd      # data structures\n",
    "import numpy as np       # basic numerical operations\n",
    "import altair as alt     # plotting library\n",
    "from ipywidgets import interact, fixed # buttons and stuff\n",
    "# with respect to https://github.com/Chekos/blog-posts/tree/master/altair%20%2B%20ipywidgets\n",
    "\n",
    "# tell plotting library not to try and hold everything in memory\n",
    "alt.data_transformers.enable('json')\n",
    "# and let it render good\n",
    "alt.renderers.enable('notebook')"
   ]
  },
  {
   "cell_type": "markdown",
   "metadata": {},
   "source": [
    "## 1. *Geddat that data*\n",
    "we reduced our spiketime data into 'long' format data - where every row is an observation (in this case spikes) and every column a variable.\n",
    "\n",
    "We also combined all cells into a single file with clean_out_dir.m. Let's load it"
   ]
  },
  {
   "cell_type": "code",
   "execution_count": 30,
   "metadata": {},
   "outputs": [
    {
     "name": "stdout",
     "output_type": "stream",
     "text": [
      "\n",
      "Directory: /Users/jonny/GitHub/bootcamp_2018/data/tones\n",
      "          \n",
      "Search string: /Users/jonny/GitHub/bootcamp_2018/data/tones/*combined*.csv\n",
      "          \n",
      "Globbed Filenames: ['/Users/jonny/GitHub/bootcamp_2018/data/tones/out_combined_tones.csv']\n"
     ]
    }
   ],
   "source": [
    "# start with tuning curves\n",
    "tc_dir = os.path.join(os.getcwd(),'data','tones')\n",
    "# make a string with a wildcard to search for the file\n",
    "tc_search = tc_dir + os.sep + \"*combined*.csv\"\n",
    "tc_fns = glob(tc_search)\n",
    "\n",
    "#what did we get?\n",
    "print(\"\"\"\\nDirectory: {}\n",
    "          \\nSearch string: {}\n",
    "          \\nGlobbed Filenames: {}\"\"\".format(tc_dir, tc_search, tc_fns))\n"
   ]
  },
  {
   "cell_type": "markdown",
   "metadata": {},
   "source": [
    "Load it!"
   ]
  },
  {
   "cell_type": "code",
   "execution_count": 31,
   "metadata": {},
   "outputs": [
    {
     "data": {
      "text/html": [
       "<div>\n",
       "<style scoped>\n",
       "    .dataframe tbody tr th:only-of-type {\n",
       "        vertical-align: middle;\n",
       "    }\n",
       "\n",
       "    .dataframe tbody tr th {\n",
       "        vertical-align: top;\n",
       "    }\n",
       "\n",
       "    .dataframe thead th {\n",
       "        text-align: right;\n",
       "    }\n",
       "</style>\n",
       "<table border=\"1\" class=\"dataframe\">\n",
       "  <thead>\n",
       "    <tr style=\"text-align: right;\">\n",
       "      <th></th>\n",
       "      <th>amps</th>\n",
       "      <th>cell</th>\n",
       "      <th>dur</th>\n",
       "      <th>expt</th>\n",
       "      <th>freqs</th>\n",
       "      <th>rep</th>\n",
       "      <th>spikes</th>\n",
       "    </tr>\n",
       "  </thead>\n",
       "  <tbody>\n",
       "    <tr>\n",
       "      <th>0</th>\n",
       "      <td>40</td>\n",
       "      <td>1</td>\n",
       "      <td>25</td>\n",
       "      <td>tuning_curve</td>\n",
       "      <td>4000.00</td>\n",
       "      <td>1</td>\n",
       "      <td>1.566667</td>\n",
       "    </tr>\n",
       "    <tr>\n",
       "      <th>1</th>\n",
       "      <td>40</td>\n",
       "      <td>1</td>\n",
       "      <td>25</td>\n",
       "      <td>tuning_curve</td>\n",
       "      <td>5656.85</td>\n",
       "      <td>1</td>\n",
       "      <td>21.633333</td>\n",
       "    </tr>\n",
       "    <tr>\n",
       "      <th>2</th>\n",
       "      <td>40</td>\n",
       "      <td>1</td>\n",
       "      <td>25</td>\n",
       "      <td>tuning_curve</td>\n",
       "      <td>11313.70</td>\n",
       "      <td>1</td>\n",
       "      <td>26.866667</td>\n",
       "    </tr>\n",
       "    <tr>\n",
       "      <th>3</th>\n",
       "      <td>40</td>\n",
       "      <td>1</td>\n",
       "      <td>25</td>\n",
       "      <td>tuning_curve</td>\n",
       "      <td>11313.70</td>\n",
       "      <td>1</td>\n",
       "      <td>36.366667</td>\n",
       "    </tr>\n",
       "    <tr>\n",
       "      <th>4</th>\n",
       "      <td>40</td>\n",
       "      <td>1</td>\n",
       "      <td>25</td>\n",
       "      <td>tuning_curve</td>\n",
       "      <td>22627.40</td>\n",
       "      <td>1</td>\n",
       "      <td>16.666667</td>\n",
       "    </tr>\n",
       "  </tbody>\n",
       "</table>\n",
       "</div>"
      ],
      "text/plain": [
       "   amps  cell  dur          expt     freqs  rep     spikes\n",
       "0    40     1   25  tuning_curve   4000.00    1   1.566667\n",
       "1    40     1   25  tuning_curve   5656.85    1  21.633333\n",
       "2    40     1   25  tuning_curve  11313.70    1  26.866667\n",
       "3    40     1   25  tuning_curve  11313.70    1  36.366667\n",
       "4    40     1   25  tuning_curve  22627.40    1  16.666667"
      ]
     },
     "execution_count": 31,
     "metadata": {},
     "output_type": "execute_result"
    }
   ],
   "source": [
    "if len(tc_fns) == 1:\n",
    "    # make a pandas dataframe out of our .csv file\n",
    "    df = pd.read_csv(tc_fns[0])\n",
    "    \n",
    "# print the first n rows (default 5, try giving another number as an argument)\n",
    "df.head()"
   ]
  },
  {
   "cell_type": "markdown",
   "metadata": {},
   "source": [
    "How many cells do we have?"
   ]
  },
  {
   "cell_type": "code",
   "execution_count": 18,
   "metadata": {},
   "outputs": [
    {
     "name": "stdout",
     "output_type": "stream",
     "text": [
      "There are 2 unique cells: [1 7]\n"
     ]
    }
   ],
   "source": [
    "print(\"There are {} unique cells: {}\".format(\n",
    "        len(df['cell'].unique()), \n",
    "        df['cell'].unique()\n",
    "    ))"
   ]
  },
  {
   "cell_type": "markdown",
   "metadata": {},
   "source": [
    "The data is structured such that each row is a spike, and each column describes the spike.\n",
    "\n",
    "Look at the rest of the column names - we have \n",
    "\n",
    "* **expt**: what type of experiment this data is from\n",
    "* **freqs**: the frequency of the pure tone\n",
    "* **amps**: the amplitude of the tone\n",
    "* **rep**: the repetition of each amplitude/frequency combination\n",
    "* **spikes**: the time of the spike (in ms from stimulus onset)\n",
    "\n",
    "Lets check what `unique` frequencies and amplitudes we have"
   ]
  },
  {
   "cell_type": "code",
   "execution_count": 23,
   "metadata": {},
   "outputs": [
    {
     "name": "stdout",
     "output_type": "stream",
     "text": [
      "Frequencies:\n",
      "\n",
      "array([ 4.00000e+03,  5.65685e+03,  1.13137e+04,  2.26274e+04,\n",
      "        1.00000e+03,  1.41421e+03, -1.00000e+00,  2.82843e+03,\n",
      "        1.60000e+04,  6.40000e+04,  2.00000e+03,  8.00000e+03,\n",
      "        3.20000e+04,  4.52548e+04])\n",
      "\n",
      "\n",
      "Amplitudes:\n",
      "\n",
      "array([40, 55, 70])\n"
     ]
    }
   ],
   "source": [
    "uq_freqs = df['freqs'].unique()\n",
    "uq_amps  = df['amps'].unique()\n",
    "\n",
    "print('Frequencies:\\n')\n",
    "pprint(uq_freqs)\n",
    "print('\\n\\nAmplitudes:\\n')\n",
    "pprint(uq_amps)"
   ]
  },
  {
   "cell_type": "markdown",
   "metadata": {},
   "source": [
    "We presented probably like 9 stimuli:"
   ]
  },
  {
   "cell_type": "markdown",
   "metadata": {},
   "source": [
    "## 2. Spike Raster\n",
    "\n",
    "We make a classic raster first."
   ]
  },
  {
   "cell_type": "code",
   "execution_count": 68,
   "metadata": {},
   "outputs": [],
   "source": [
    "\n",
    "def spike_raster(cell, data):\n",
    "    # we first declare a Chart object, subsetting our data to a single cell\n",
    "    # we then mark_circles with the encoding (map from data to graphics)\n",
    "    \n",
    "    duration = data.loc[0].dur\n",
    "    \n",
    "    chart = alt.Chart(data[data['cell'] == cell]).mark_circle().encode(\n",
    "        x = alt.X('spikes'),      # X axis will be spike time\n",
    "        y = alt.Y('rep' ),        # Y is the stimulus repetition\n",
    "        size = alt.value(5),      # make the dots small\n",
    "        opacity=alt.value(1.),    # black\n",
    "        color=alt.condition(\n",
    "            (alt.datum.spikes >= 0) & (alt.datum.spikes<=duration),\n",
    "            alt.value('red'), # and opaque\n",
    "            alt.value('black')\n",
    "        )\n",
    "        \n",
    "    ).properties(\n",
    "        width = 200,\n",
    "        height = 30,\n",
    "    ).facet(\n",
    "        row='freqs', # split the plot into rows by ici\n",
    "        column='amps'\n",
    "    )\n",
    "    \n",
    "    \n",
    "    return chart\n",
    "\n"
   ]
  },
  {
   "cell_type": "code",
   "execution_count": 69,
   "metadata": {},
   "outputs": [
    {
     "data": {
      "application/vnd.jupyter.widget-view+json": {
       "model_id": "04eec5959e3843e3a97b2f2adcce968e",
       "version_major": 2,
       "version_minor": 0
      },
      "text/plain": [
       "aW50ZXJhY3RpdmUoY2hpbGRyZW49KERyb3Bkb3duKGRlc2NyaXB0aW9uPXUnY2VsbCcsIG9wdGlvbnM9KDEsIDcpLCB2YWx1ZT0xKSwgT3V0cHV0KCkpLCBfZG9tX2NsYXNzZXM9KHUnd2lkZ2XigKY=\n"
      ]
     },
     "metadata": {},
     "output_type": "display_data"
    }
   ],
   "source": [
    "interact(spike_raster,cell = sorted(df['cell'].unique()), data=fixed(df));"
   ]
  },
  {
   "cell_type": "markdown",
   "metadata": {},
   "source": [
    "## 3. Tuning Curves\n",
    "\n",
    "What if we want to summarize? The receptive fields of auditory neurons are parameterized by the frequencies and amplitudes that drive spiking activity. We can map that by aggregating the spike trains across repetitions of the same sound.\n"
   ]
  },
  {
   "cell_type": "code",
   "execution_count": 71,
   "metadata": {},
   "outputs": [
    {
     "data": {
      "text/html": [
       "<div>\n",
       "<style scoped>\n",
       "    .dataframe tbody tr th:only-of-type {\n",
       "        vertical-align: middle;\n",
       "    }\n",
       "\n",
       "    .dataframe tbody tr th {\n",
       "        vertical-align: top;\n",
       "    }\n",
       "\n",
       "    .dataframe thead th {\n",
       "        text-align: right;\n",
       "    }\n",
       "</style>\n",
       "<table border=\"1\" class=\"dataframe\">\n",
       "  <thead>\n",
       "    <tr style=\"text-align: right;\">\n",
       "      <th></th>\n",
       "      <th>amps</th>\n",
       "      <th>cell</th>\n",
       "      <th>dur</th>\n",
       "      <th>expt</th>\n",
       "      <th>freqs</th>\n",
       "      <th>rep</th>\n",
       "      <th>spikes</th>\n",
       "    </tr>\n",
       "  </thead>\n",
       "  <tbody>\n",
       "    <tr>\n",
       "      <th>252</th>\n",
       "      <td>40</td>\n",
       "      <td>7</td>\n",
       "      <td>25</td>\n",
       "      <td>tuning_curve</td>\n",
       "      <td>-1.00</td>\n",
       "      <td>1</td>\n",
       "      <td>33.300000</td>\n",
       "    </tr>\n",
       "    <tr>\n",
       "      <th>253</th>\n",
       "      <td>40</td>\n",
       "      <td>7</td>\n",
       "      <td>25</td>\n",
       "      <td>tuning_curve</td>\n",
       "      <td>-1.00</td>\n",
       "      <td>1</td>\n",
       "      <td>143.500000</td>\n",
       "    </tr>\n",
       "    <tr>\n",
       "      <th>254</th>\n",
       "      <td>40</td>\n",
       "      <td>7</td>\n",
       "      <td>25</td>\n",
       "      <td>tuning_curve</td>\n",
       "      <td>1000.00</td>\n",
       "      <td>1</td>\n",
       "      <td>45.133333</td>\n",
       "    </tr>\n",
       "    <tr>\n",
       "      <th>255</th>\n",
       "      <td>40</td>\n",
       "      <td>7</td>\n",
       "      <td>25</td>\n",
       "      <td>tuning_curve</td>\n",
       "      <td>1414.21</td>\n",
       "      <td>1</td>\n",
       "      <td>15.800000</td>\n",
       "    </tr>\n",
       "    <tr>\n",
       "      <th>256</th>\n",
       "      <td>40</td>\n",
       "      <td>7</td>\n",
       "      <td>25</td>\n",
       "      <td>tuning_curve</td>\n",
       "      <td>1414.21</td>\n",
       "      <td>1</td>\n",
       "      <td>94.666667</td>\n",
       "    </tr>\n",
       "  </tbody>\n",
       "</table>\n",
       "</div>"
      ],
      "text/plain": [
       "     amps  cell  dur          expt    freqs  rep      spikes\n",
       "252    40     7   25  tuning_curve    -1.00    1   33.300000\n",
       "253    40     7   25  tuning_curve    -1.00    1  143.500000\n",
       "254    40     7   25  tuning_curve  1000.00    1   45.133333\n",
       "255    40     7   25  tuning_curve  1414.21    1   15.800000\n",
       "256    40     7   25  tuning_curve  1414.21    1   94.666667"
      ]
     },
     "execution_count": 71,
     "metadata": {},
     "output_type": "execute_result"
    }
   ],
   "source": [
    "# choose just one cell\n",
    "#tc_cell = df['cell'].unique()[1]\n",
    "#df_tc = df.loc[df['cell'] == tc_cell]\n"
   ]
  },
  {
   "cell_type": "markdown",
   "metadata": {},
   "source": [
    "We want to measure the **change** in spiking activity due to the sound, so we subtract the baseline activity before the stimulus."
   ]
  },
  {
   "cell_type": "code",
   "execution_count": 144,
   "metadata": {},
   "outputs": [
    {
     "data": {
      "text/html": [
       "<div>\n",
       "<style scoped>\n",
       "    .dataframe tbody tr th:only-of-type {\n",
       "        vertical-align: middle;\n",
       "    }\n",
       "\n",
       "    .dataframe tbody tr th {\n",
       "        vertical-align: top;\n",
       "    }\n",
       "\n",
       "    .dataframe thead th {\n",
       "        text-align: right;\n",
       "    }\n",
       "</style>\n",
       "<table border=\"1\" class=\"dataframe\">\n",
       "  <thead>\n",
       "    <tr style=\"text-align: right;\">\n",
       "      <th></th>\n",
       "      <th>cell</th>\n",
       "      <th>freqs</th>\n",
       "      <th>amps</th>\n",
       "      <th>rep</th>\n",
       "      <th>spikes</th>\n",
       "      <th>baseline</th>\n",
       "    </tr>\n",
       "  </thead>\n",
       "  <tbody>\n",
       "    <tr>\n",
       "      <th>0</th>\n",
       "      <td>1</td>\n",
       "      <td>-1.0</td>\n",
       "      <td>40</td>\n",
       "      <td>16</td>\n",
       "      <td>1.0</td>\n",
       "      <td>0.0</td>\n",
       "    </tr>\n",
       "    <tr>\n",
       "      <th>1</th>\n",
       "      <td>1</td>\n",
       "      <td>-1.0</td>\n",
       "      <td>55</td>\n",
       "      <td>2</td>\n",
       "      <td>1.0</td>\n",
       "      <td>0.0</td>\n",
       "    </tr>\n",
       "    <tr>\n",
       "      <th>2</th>\n",
       "      <td>1</td>\n",
       "      <td>-1.0</td>\n",
       "      <td>55</td>\n",
       "      <td>3</td>\n",
       "      <td>1.0</td>\n",
       "      <td>0.0</td>\n",
       "    </tr>\n",
       "    <tr>\n",
       "      <th>3</th>\n",
       "      <td>1</td>\n",
       "      <td>-1.0</td>\n",
       "      <td>55</td>\n",
       "      <td>5</td>\n",
       "      <td>1.0</td>\n",
       "      <td>0.0</td>\n",
       "    </tr>\n",
       "    <tr>\n",
       "      <th>4</th>\n",
       "      <td>1</td>\n",
       "      <td>-1.0</td>\n",
       "      <td>55</td>\n",
       "      <td>10</td>\n",
       "      <td>1.0</td>\n",
       "      <td>0.0</td>\n",
       "    </tr>\n",
       "  </tbody>\n",
       "</table>\n",
       "</div>"
      ],
      "text/plain": [
       "   cell  freqs  amps  rep  spikes  baseline\n",
       "0     1   -1.0    40   16     1.0       0.0\n",
       "1     1   -1.0    55    2     1.0       0.0\n",
       "2     1   -1.0    55    3     1.0       0.0\n",
       "3     1   -1.0    55    5     1.0       0.0\n",
       "4     1   -1.0    55   10     1.0       0.0"
      ]
     },
     "execution_count": 144,
     "metadata": {},
     "output_type": "execute_result"
    }
   ],
   "source": [
    "# select just spikes within stim, aggregate\n",
    "df_stim = df.loc[(df['spikes']>0) & (df['spikes']<df['dur'])]\n",
    "df_stim = df_stim[['spikes','freqs','amps','cell','rep']]\n",
    "df_stim = df_stim.groupby(['cell','freqs','amps','rep']).count()\n",
    "df_stim = pd.DataFrame(df_stim.to_records())\n",
    "\n",
    "# same for baseline\n",
    "df_base = df.loc[(df['spikes']<0) & (df['spikes']>=df['dur']*-1.)]\n",
    "df_base = df_base[['spikes','freqs','amps','cell','rep']]\n",
    "df_base = df_base.groupby(['cell','freqs','amps','rep']).count()\n",
    "df_base = pd.DataFrame(df_base.to_records())\n",
    "\n",
    "## join\n",
    "# join first to fill missing (0 spikes) values\n",
    "df_tc = pd.merge(df_stim, df_base,\n",
    "                 on=['cell','freqs', 'amps', 'rep'], how='outer')\n",
    "# rename columns\n",
    "df_tc.rename(index=str, \n",
    "             columns={'spikes_x':'spikes',\n",
    "                      'spikes_y':'baseline'},\n",
    "             inplace=True)\n",
    "\n",
    "# fill nans\n",
    "df_tc.fillna(0,inplace=True)\n",
    "\n",
    "df_tc.head()\n",
    "\n",
    "\n"
   ]
  },
  {
   "cell_type": "code",
   "execution_count": 145,
   "metadata": {},
   "outputs": [
    {
     "data": {
      "text/html": [
       "<div>\n",
       "<style scoped>\n",
       "    .dataframe tbody tr th:only-of-type {\n",
       "        vertical-align: middle;\n",
       "    }\n",
       "\n",
       "    .dataframe tbody tr th {\n",
       "        vertical-align: top;\n",
       "    }\n",
       "\n",
       "    .dataframe thead th {\n",
       "        text-align: right;\n",
       "    }\n",
       "</style>\n",
       "<table border=\"1\" class=\"dataframe\">\n",
       "  <thead>\n",
       "    <tr style=\"text-align: right;\">\n",
       "      <th></th>\n",
       "      <th>cell</th>\n",
       "      <th>freqs</th>\n",
       "      <th>amps</th>\n",
       "      <th>rep</th>\n",
       "      <th>spikes</th>\n",
       "    </tr>\n",
       "  </thead>\n",
       "  <tbody>\n",
       "    <tr>\n",
       "      <th>0</th>\n",
       "      <td>1</td>\n",
       "      <td>-1.0</td>\n",
       "      <td>40</td>\n",
       "      <td>16</td>\n",
       "      <td>40.0</td>\n",
       "    </tr>\n",
       "    <tr>\n",
       "      <th>1</th>\n",
       "      <td>1</td>\n",
       "      <td>-1.0</td>\n",
       "      <td>55</td>\n",
       "      <td>2</td>\n",
       "      <td>40.0</td>\n",
       "    </tr>\n",
       "    <tr>\n",
       "      <th>2</th>\n",
       "      <td>1</td>\n",
       "      <td>-1.0</td>\n",
       "      <td>55</td>\n",
       "      <td>3</td>\n",
       "      <td>40.0</td>\n",
       "    </tr>\n",
       "    <tr>\n",
       "      <th>3</th>\n",
       "      <td>1</td>\n",
       "      <td>-1.0</td>\n",
       "      <td>55</td>\n",
       "      <td>5</td>\n",
       "      <td>40.0</td>\n",
       "    </tr>\n",
       "    <tr>\n",
       "      <th>4</th>\n",
       "      <td>1</td>\n",
       "      <td>-1.0</td>\n",
       "      <td>55</td>\n",
       "      <td>10</td>\n",
       "      <td>40.0</td>\n",
       "    </tr>\n",
       "  </tbody>\n",
       "</table>\n",
       "</div>"
      ],
      "text/plain": [
       "   cell  freqs  amps  rep  spikes\n",
       "0     1   -1.0    40   16    40.0\n",
       "1     1   -1.0    55    2    40.0\n",
       "2     1   -1.0    55    3    40.0\n",
       "3     1   -1.0    55    5    40.0\n",
       "4     1   -1.0    55   10    40.0"
      ]
     },
     "execution_count": 145,
     "metadata": {},
     "output_type": "execute_result"
    }
   ],
   "source": [
    "# subtract\n",
    "df_tc['spikes'] = df_tc['spikes']-df_tc['baseline']\n",
    "# remove the other column\n",
    "df_tc.drop('baseline', axis=1,inplace=True)\n",
    "\n",
    "# divide by the duration to get mean spikes/s \n",
    "# (assuming durations uniform)\n",
    "df_tc['spikes'] = df_tc['spikes']/(df['dur'][0]/1000.)\n",
    "\n",
    "df_tc.head()\n",
    "\n",
    "\n"
   ]
  },
  {
   "cell_type": "code",
   "execution_count": 147,
   "metadata": {},
   "outputs": [
    {
     "data": {
      "text/html": [
       "<div>\n",
       "<style scoped>\n",
       "    .dataframe tbody tr th:only-of-type {\n",
       "        vertical-align: middle;\n",
       "    }\n",
       "\n",
       "    .dataframe tbody tr th {\n",
       "        vertical-align: top;\n",
       "    }\n",
       "\n",
       "    .dataframe thead th {\n",
       "        text-align: right;\n",
       "    }\n",
       "</style>\n",
       "<table border=\"1\" class=\"dataframe\">\n",
       "  <thead>\n",
       "    <tr style=\"text-align: right;\">\n",
       "      <th></th>\n",
       "      <th>cell</th>\n",
       "      <th>freqs</th>\n",
       "      <th>amps</th>\n",
       "      <th>spikes</th>\n",
       "      <th>std</th>\n",
       "    </tr>\n",
       "  </thead>\n",
       "  <tbody>\n",
       "    <tr>\n",
       "      <th>0</th>\n",
       "      <td>1</td>\n",
       "      <td>-1.0</td>\n",
       "      <td>40</td>\n",
       "      <td>-13.333333</td>\n",
       "      <td>46.188022</td>\n",
       "    </tr>\n",
       "    <tr>\n",
       "      <th>1</th>\n",
       "      <td>1</td>\n",
       "      <td>-1.0</td>\n",
       "      <td>55</td>\n",
       "      <td>40.000000</td>\n",
       "      <td>0.000000</td>\n",
       "    </tr>\n",
       "    <tr>\n",
       "      <th>2</th>\n",
       "      <td>1</td>\n",
       "      <td>-1.0</td>\n",
       "      <td>70</td>\n",
       "      <td>40.000000</td>\n",
       "      <td>0.000000</td>\n",
       "    </tr>\n",
       "    <tr>\n",
       "      <th>3</th>\n",
       "      <td>1</td>\n",
       "      <td>1000.0</td>\n",
       "      <td>40</td>\n",
       "      <td>0.000000</td>\n",
       "      <td>46.188022</td>\n",
       "    </tr>\n",
       "    <tr>\n",
       "      <th>4</th>\n",
       "      <td>1</td>\n",
       "      <td>1000.0</td>\n",
       "      <td>55</td>\n",
       "      <td>30.000000</td>\n",
       "      <td>50.332230</td>\n",
       "    </tr>\n",
       "  </tbody>\n",
       "</table>\n",
       "</div>"
      ],
      "text/plain": [
       "   cell   freqs  amps     spikes        std\n",
       "0     1    -1.0    40 -13.333333  46.188022\n",
       "1     1    -1.0    55  40.000000   0.000000\n",
       "2     1    -1.0    70  40.000000   0.000000\n",
       "3     1  1000.0    40   0.000000  46.188022\n",
       "4     1  1000.0    55  30.000000  50.332230"
      ]
     },
     "execution_count": 147,
     "metadata": {},
     "output_type": "execute_result"
    }
   ],
   "source": [
    "# aggregate over repetitions\n",
    "df_tc_summary = df_tc.groupby(['cell','freqs','amps']).mean()\n",
    "df_tc_std     = df_tc.groupby(['cell','freqs','amps']).std()\n",
    "\n",
    "df_tc_summary.drop('rep',axis=1,inplace=True)\n",
    "df_tc_std.drop('rep',axis=1,inplace=True)\n",
    "\n",
    "df_tc_summary = pd.merge(df_tc_summary.reset_index(), df_tc_std.reset_index(),\n",
    "                 on=['freqs', 'amps', 'cell'], how='outer')\n",
    "\n",
    "# rename columns\n",
    "df_tc_summary.rename(index=str, \n",
    "             columns={'spikes_x':'spikes',\n",
    "                      'spikes_y':'std'},\n",
    "             inplace=True)\n",
    "\n",
    "df_tc_summary.head()\n",
    "\n",
    "\n"
   ]
  },
  {
   "cell_type": "code",
   "execution_count": 158,
   "metadata": {},
   "outputs": [
    {
     "data": {
      "application/javascript": [
       "var spec = {\"facet\": {\"column\": {\"field\": \"cell\", \"type\": \"nominal\"}, \"row\": {\"field\": \"amps\", \"type\": \"ordinal\"}}, \"data\": {\"url\": \"altair-data-51743a303c81056611c0437fa45547a3.json\", \"format\": {\"type\": \"json\"}}, \"$schema\": \"https://vega.github.io/schema/vega-lite/v2.6.0.json\", \"config\": {\"view\": {\"width\": 400, \"height\": 300}}, \"spec\": {\"layer\": [{\"width\": 200, \"height\": 100, \"mark\": \"circle\", \"encoding\": {\"color\": {\"value\": \"black\"}, \"y\": {\"field\": \"spikes\", \"type\": \"quantitative\"}, \"x\": {\"field\": \"freqs\", \"type\": \"ordinal\"}}}, {\"mark\": \"rule\", \"encoding\": {\"y\": {\"field\": \"std_lo\", \"type\": \"quantitative\"}, \"x\": {\"field\": \"freqs\", \"type\": \"ordinal\"}, \"y2\": {\"field\": \"std_hi\", \"type\": \"quantitative\"}}}]}};\n",
       "var opt = {};\n",
       "var type = \"vega-lite\";\n",
       "var id = \"85e27069-2e18-47b0-ae8a-e28b2a7b2ae9\";\n",
       "\n",
       "var output_area = this;\n",
       "\n",
       "require([\"nbextensions/jupyter-vega/index\"], function(vega) {\n",
       "  var target = document.createElement(\"div\");\n",
       "  target.id = id;\n",
       "  target.className = \"vega-embed\";\n",
       "\n",
       "  var style = document.createElement(\"style\");\n",
       "  style.textContent = [\n",
       "    \".vega-embed .error p {\",\n",
       "    \"  color: firebrick;\",\n",
       "    \"  font-size: 14px;\",\n",
       "    \"}\",\n",
       "  ].join(\"\\\\n\");\n",
       "\n",
       "  // element is a jQuery wrapped DOM element inside the output area\n",
       "  // see http://ipython.readthedocs.io/en/stable/api/generated/\\\n",
       "  // IPython.display.html#IPython.display.Javascript.__init__\n",
       "  element[0].appendChild(target);\n",
       "  element[0].appendChild(style);\n",
       "\n",
       "  vega.render(\"#\" + id, spec, type, opt, output_area);\n",
       "}, function (err) {\n",
       "  if (err.requireType !== \"scripterror\") {\n",
       "    throw(err);\n",
       "  }\n",
       "});\n"
      ],
      "text/plain": [
       "<vega.vegalite.VegaLite at 0x11297b710>"
      ]
     },
     "metadata": {
      "jupyter-vega": "#85e27069-2e18-47b0-ae8a-e28b2a7b2ae9"
     },
     "output_type": "display_data"
    },
    {
     "data": {
      "text/plain": []
     },
     "execution_count": 158,
     "metadata": {},
     "output_type": "execute_result"
    },
    {
     "data": {
      "image/png": "[encoded data removed]"
     },
     "metadata": {
      "jupyter-vega": "#85e27069-2e18-47b0-ae8a-e28b2a7b2ae9"
     },
     "output_type": "display_data"
    }
   ],
   "source": [
    "df_tc_summary['std_lo'] = df_tc_summary['spikes']-df_tc_summary['std']\n",
    "df_tc_summary['std_hi'] = df_tc_summary['spikes']+df_tc_summary['std']\n",
    "\n",
    "points = alt.Chart().mark_circle(\n",
    "            ).encode(\n",
    "                x=alt.X('freqs:O'),\n",
    "                y=alt.Y('spikes:Q'),\n",
    "                color=alt.value('black')\n",
    "            ).properties(\n",
    "                width = 200,\n",
    "                height = 100\n",
    "            )\n",
    "\n",
    "bars = alt.Chart().mark_rule().encode(\n",
    "y=alt.Y('std_lo:Q'),\n",
    "y2=alt.Y('std_hi:Q'),\n",
    "x=alt.X('freqs:O'))\n",
    "\n",
    "chart = points+bars\n",
    "\n",
    "chart.facet(row='amps:O',column='cell:N',data=df_tc_summary)\n"
   ]
  },
  {
   "cell_type": "markdown",
   "metadata": {},
   "source": [
    "Or if we want to forget about uncertainty as a heatmap"
   ]
  },
  {
   "cell_type": "code",
   "execution_count": 181,
   "metadata": {},
   "outputs": [],
   "source": [
    "def tc_heatmap(data, cell):\n",
    "    points = alt.Chart(data[data['cell']==cell]).mark_rect(\n",
    "                ).encode(\n",
    "                    x=alt.X('freqs:O'),\n",
    "                    y=alt.Y('amps:O'),\n",
    "                    color='spikes:Q'\n",
    "                ).properties(\n",
    "                    width = 600,\n",
    "                    height = 200\n",
    "                )\n",
    "    return points"
   ]
  },
  {
   "cell_type": "code",
   "execution_count": 182,
   "metadata": {},
   "outputs": [
    {
     "data": {
      "application/vnd.jupyter.widget-view+json": {
       "model_id": "930ea136e77a4e6181d959f1eb6a863f",
       "version_major": 2,
       "version_minor": 0
      },
      "text/plain": [
       "aW50ZXJhY3RpdmUoY2hpbGRyZW49KERyb3Bkb3duKGRlc2NyaXB0aW9uPXUnY2VsbCcsIG9wdGlvbnM9KDEsIDcpLCB2YWx1ZT0xKSwgT3V0cHV0KCkpLCBfZG9tX2NsYXNzZXM9KHUnd2lkZ2XigKY=\n"
      ]
     },
     "metadata": {},
     "output_type": "display_data"
    }
   ],
   "source": [
    "interact(tc_heatmap,cell = sorted(df_tc_summary['cell'].unique()), data=fixed(df_tc_summary));"
   ]
  },
  {
   "cell_type": "code",
   "execution_count": null,
   "metadata": {},
   "outputs": [],
   "source": []
  }
 ],
 "metadata": {
  "kernelspec": {
   "display_name": "Python 2",
   "language": "python",
   "name": "python2"
  },
  "language_info": {
   "codemirror_mode": {
    "name": "ipython",
    "version": 2
   },
   "file_extension": ".py",
   "mimetype": "text/x-python",
   "name": "python",
   "nbconvert_exporter": "python",
   "pygments_lexer": "ipython2",
   "version": "2.7.15"
  }
 },
 "nbformat": 4,
 "nbformat_minor": 2
}
